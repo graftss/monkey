{
 "cells": [
  {
   "cell_type": "code",
   "execution_count": 93,
   "id": "infectious-utility",
   "metadata": {},
   "outputs": [],
   "source": [
    "from PIL import Image, GifImagePlugin, ImageOps\n",
    "from math import pi, cos, sin, floor"
   ]
  },
  {
   "cell_type": "code",
   "execution_count": 94,
   "id": "angry-module",
   "metadata": {},
   "outputs": [],
   "source": [
    "class Biometrics:\n",
    "    # position data\n",
    "    head_pos = (48, 6)\n",
    "    bowtie_pos = (53,39)\n",
    "    l_elbow_pos = (10, 28)\n",
    "    r_elbow_pos = (79, 28)\n",
    "    arm_len = 25\n",
    "\n",
    "    # arm angles (in radians) at each frame\n",
    "    arm_rads = [\n",
    "        (pi * 2.9/2, pi * 3/2),\n",
    "        (pi * 2.9/2, pi * 3/2),\n",
    "        (pi * 2.9/2, pi * 3/2),\n",
    "        (0, 0),\n",
    "        (pi/2.8, pi/2.8),\n",
    "        (pi - pi/2.8, pi - pi/2.8),\n",
    "        (pi/0.9, pi),\n",
    "        (pi * 2.9/2, pi * 3/2),\n",
    "        (pi * 3.2/2, pi * 3.2/2),\n",
    "        (0.2, 0.4),\n",
    "        (pi/2.8, pi/2.6),\n",
    "        (pi/2, pi/2),\n",
    "        (pi, pi-0.2),\n",
    "        (4, 4.2),\n",
    "        (4.5, 4.6),\n",
    "        (5.7, 5.7),\n",
    "        (0.9, 1.1),\n",
    "        (1.6, 1.7),\n",
    "        (3.05, 2.8)\n",
    "    ]"
   ]
  },
  {
   "cell_type": "code",
   "execution_count": 98,
   "id": "outside-faith",
   "metadata": {},
   "outputs": [],
   "source": [
    "# Loads the cymbal monkey stem images\n",
    "class Bodyparts:\n",
    "    def __init__(self):\n",
    "        self.head = Image.open('head.png')\n",
    "        self.head.thumbnail((32, 32), Image.ANTIALIAS)\n",
    "\n",
    "        self.bowtie = Image.open('bowtie.png').convert('RGBA')\n",
    "        self.bowtie.thumbnail((10, 7), Image.ANTIALIAS)\n",
    "\n",
    "        self.l_cymbal = Image.open('cymbal.png')\n",
    "        self.l_cymbal.thumbnail((25, 25), Image.ANTIALIAS)\n",
    "        \n",
    "        self.r_cymbal = ImageOps.mirror(l_cymbal)\n",
    "    \n",
    "    def get_all(self):\n",
    "        return self.head, self.bowtie, self.l_cymbal, self.r_cymbal\n",
    "        \n",
    "class MonkeyMorph:\n",
    "    def __init__(self):\n",
    "        self.bodyparts = Bodyparts()\n",
    "        self.biometrics = Biometrics()\n",
    "    \n",
    "    # Extract the array of frames from the monkey gif.\n",
    "    def get_frames(self):\n",
    "        gif = Image.open('monkey.gif')\n",
    "        frames = []\n",
    "        for n_frame in range(gif.n_frames):\n",
    "            gif.seek(n_frame)\n",
    "            dur = gif.info['duration']\n",
    "            frame = Image.new('RGBA', gif.size)\n",
    "            frame.paste(gif, (0, 0), gif.convert('RGBA'))\n",
    "            frames.append(frame)\n",
    "        return frames\n",
    "\n",
    "    # Computes the positions of the left and right hands from the respective arm angles.\n",
    "    def hand_positions(self, l_rad, r_rad):\n",
    "        lx, ly = self.biometrics.l_elbow_pos\n",
    "        rx, ry = self.biometrics.r_elbow_pos\n",
    "        \n",
    "        l_pos = (lx + round(arm_len * cos(l_rad + pi)), ly + round(arm_len * sin(l_rad + pi)))\n",
    "        r_pos = (rx + round(arm_len * cos(r_rad + pi)), ly + round(arm_len * sin(r_rad + pi)))\n",
    "        \n",
    "        return l_pos, r_pos\n",
    "\n",
    "    # Transform a single `frame` with the given left and arm angles.\n",
    "    def cymbalify_frame(self, frame, l_rad, r_rad):\n",
    "        head, bowtie, l_cymbal, r_cymbal = self.bodyparts.get_all()\n",
    "        \n",
    "        frame.paste(head, head_pos, head)\n",
    "        frame.paste(bowtie, bowtie_pos, bowtie)\n",
    "\n",
    "        lh, rh = self.hand_positions(l_rad, r_rad)\n",
    "        frame.paste(l_cymbal, lh, l_cymbal)\n",
    "        frame.paste(r_cymbal, rh, r_cymbal)\n",
    "\n",
    "        return frame\n",
    "    \n",
    "    def write_frames(self, frames, out_path, frame_duration):\n",
    "        # `loop=0` makes the gif loop forever.\n",
    "        frames[0].save(out_path,\n",
    "                   save_all=True, append_images=frames[1:], \n",
    "                   optimize=True, duration=frame_duration, loop=0)\n",
    "\n",
    "    def main(self):\n",
    "        bodyparts = self.bodyparts\n",
    "        biometrics = self.biometrics\n",
    "        frames = self.get_frames()\n",
    "        \n",
    "        result_frames = []\n",
    "        for arm_rad, frame in zip(biometrics.arm_rads, frames):\n",
    "            l_rad, r_rad = arm_rad\n",
    "            result_frames.append(self.cymbalify_frame(frame, l_rad, r_rad))\n",
    "            \n",
    "        self.write_frames(result_frames, out_path='cymbal-monkey.gif', frame_duration=20)"
   ]
  },
  {
   "cell_type": "code",
   "execution_count": 99,
   "id": "italic-latin",
   "metadata": {},
   "outputs": [
    {
     "data": {
      "image/png": "[encoded data removed]",
      "text/plain": [
       "<PIL.Image.Image image mode=RGBA size=112x112 at 0x27D1F1BC340>"
      ]
     },
     "execution_count": 99,
     "metadata": {},
     "output_type": "execute_result"
    }
   ],
   "source": [
    "frame = get_frames()[1]\n",
    "bp = Bodyparts()\n",
    "cymbalify_frame(frame, bp, arm_rads[0][0], arm_rads[0][1])"
   ]
  },
  {
   "cell_type": "code",
   "execution_count": 100,
   "id": "standard-economy",
   "metadata": {},
   "outputs": [],
   "source": [
    "cymbalify()"
   ]
  },
  {
   "cell_type": "code",
   "execution_count": null,
   "id": "tender-sixth",
   "metadata": {},
   "outputs": [],
   "source": []
  }
 ],
 "metadata": {
  "kernelspec": {
   "display_name": "Python 3",
   "language": "python",
   "name": "python3"
  },
  "language_info": {
   "codemirror_mode": {
    "name": "ipython",
    "version": 3
   },
   "file_extension": ".py",
   "mimetype": "text/x-python",
   "name": "python",
   "nbconvert_exporter": "python",
   "pygments_lexer": "ipython3",
   "version": "3.8.2"
  }
 },
 "nbformat": 4,
 "nbformat_minor": 5
}
